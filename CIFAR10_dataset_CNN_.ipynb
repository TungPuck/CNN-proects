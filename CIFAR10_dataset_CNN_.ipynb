{
  "nbformat": 4,
  "nbformat_minor": 0,
  "metadata": {
    "accelerator": "GPU",
    "colab": {
      "name": "CIFAR10_dataset_CNN .ipynb",
      "provenance": []
    },
    "kernelspec": {
      "display_name": "Python 3",
      "name": "python3"
    },
    "language_info": {
      "name": "python"
    }
  },
  "cells": [
    {
      "cell_type": "markdown",
      "metadata": {
        "id": "7GjHMsGa7HOh"
      },
      "source": [
        "# Load data"
      ]
    },
    {
      "cell_type": "code",
      "metadata": {
        "id": "8JcovsO56SkR"
      },
      "source": [
        "import tensorflow as tf\n",
        "from tensorflow.keras.datasets import cifar10"
      ],
      "execution_count": 27,
      "outputs": []
    },
    {
      "cell_type": "code",
      "metadata": {
        "id": "S7rGefRP6sJH"
      },
      "source": [
        "(train_data, train_label) , (test_data,test_label) = cifar10.load_data()"
      ],
      "execution_count": 74,
      "outputs": []
    },
    {
      "cell_type": "code",
      "metadata": {
        "colab": {
          "base_uri": "https://localhost:8080/"
        },
        "id": "AOe1PMkS7CB0",
        "outputId": "2b20e907-7384-414c-aeeb-01deecb469b2"
      },
      "source": [
        "train_data.shape, test_data.shape, train_data.dtype, test_data.dtype"
      ],
      "execution_count": 29,
      "outputs": [
        {
          "output_type": "execute_result",
          "data": {
            "text/plain": [
              "((50000, 32, 32, 3), (10000, 32, 32, 3), dtype('uint8'), dtype('uint8'))"
            ]
          },
          "metadata": {
            "tags": []
          },
          "execution_count": 29
        }
      ]
    },
    {
      "cell_type": "code",
      "metadata": {
        "colab": {
          "base_uri": "https://localhost:8080/"
        },
        "id": "EgfyUDGB8Ary",
        "outputId": "d92bfca9-c317-4072-887b-d3d4cc3e5904"
      },
      "source": [
        "# Class name\n",
        "class_name = [\"airplanes\", \"cars\", \"birds\", \"cats\", \"deer\", \"dogs\", \"frogs\", \"horses\", \"ships\", \"trucks\"]\n",
        "len(class_name)"
      ],
      "execution_count": 30,
      "outputs": [
        {
          "output_type": "execute_result",
          "data": {
            "text/plain": [
              "10"
            ]
          },
          "metadata": {
            "tags": []
          },
          "execution_count": 30
        }
      ]
    },
    {
      "cell_type": "code",
      "metadata": {
        "colab": {
          "base_uri": "https://localhost:8080/",
          "height": 230
        },
        "id": "LFNknjrh7n6_",
        "outputId": "e6e37f46-5f69-4b6f-e879-f335c3e35d40"
      },
      "source": [
        "# Show image example\n",
        "import matplotlib.pyplot as plt\n",
        "plt.figure(figsize=(3,3))\n",
        "plt.imshow(train_data[0])"
      ],
      "execution_count": 31,
      "outputs": [
        {
          "output_type": "execute_result",
          "data": {
            "text/plain": [
              "<matplotlib.image.AxesImage at 0x7f7b4a41c710>"
            ]
          },
          "metadata": {
            "tags": []
          },
          "execution_count": 31
        },
        {
          "output_type": "display_data",
          "data": {
            "image/png": "[encoded data removed]",
            "text/plain": [
              "<Figure size 216x216 with 1 Axes>"
            ]
          },
          "metadata": {
            "tags": [],
            "needs_background": "light"
          }
        }
      ]
    },
    {
      "cell_type": "markdown",
      "metadata": {
        "id": "AYW-Y0q67677"
      },
      "source": [
        "## View random image"
      ]
    },
    {
      "cell_type": "code",
      "metadata": {
        "id": "qP324vCW7K4w"
      },
      "source": [
        "import random\n",
        "import numpy as np\n",
        "\n",
        "tf.random.set_seed(42)\n",
        "def view_random_image(images):\n",
        "  index = np.random.randint(0, len(images))\n",
        "  image = images[index]\n",
        "\n",
        "  plt.imshow(image)\n",
        "  plt.axis(False)"
      ],
      "execution_count": 32,
      "outputs": []
    },
    {
      "cell_type": "code",
      "metadata": {
        "colab": {
          "base_uri": "https://localhost:8080/",
          "height": 248
        },
        "id": "o0rrFmqS7V7F",
        "outputId": "12897a1f-6ece-4a19-de6a-c21f67fb92eb"
      },
      "source": [
        "view_random_image(images=train_data)"
      ],
      "execution_count": 33,
      "outputs": [
        {
          "output_type": "display_data",
          "data": {
            "image/png": "[encoded data removed]",
            "text/plain": [
              "<Figure size 432x288 with 1 Axes>"
            ]
          },
          "metadata": {
            "tags": [],
            "needs_background": "light"
          }
        }
      ]
    },
    {
      "cell_type": "markdown",
      "metadata": {
        "id": "yZwvSWv781n5"
      },
      "source": [
        "## Normalize train & test data"
      ]
    },
    {
      "cell_type": "code",
      "metadata": {
        "id": "2FsrDC1g9KVe"
      },
      "source": [
        "train_data = train_data / 255.\n",
        "test_data = test_data / 255."
      ],
      "execution_count": 75,
      "outputs": []
    },
    {
      "cell_type": "code",
      "metadata": {
        "colab": {
          "base_uri": "https://localhost:8080/"
        },
        "id": "66NN5aQz9POe",
        "outputId": "535c6660-3fea-438c-db79-2c43b18b4f23"
      },
      "source": [
        "train_data.min(), train_data.max()"
      ],
      "execution_count": 76,
      "outputs": [
        {
          "output_type": "execute_result",
          "data": {
            "text/plain": [
              "(0.0, 1.0)"
            ]
          },
          "metadata": {
            "tags": []
          },
          "execution_count": 76
        }
      ]
    },
    {
      "cell_type": "code",
      "metadata": {
        "colab": {
          "base_uri": "https://localhost:8080/"
        },
        "id": "Yp2LhIZP9TEf",
        "outputId": "eeb20429-a2fe-417c-d6c9-80ba6be3ea26"
      },
      "source": [
        "train_label "
      ],
      "execution_count": 77,
      "outputs": [
        {
          "output_type": "execute_result",
          "data": {
            "text/plain": [
              "array([[6],\n",
              "       [9],\n",
              "       [9],\n",
              "       ...,\n",
              "       [9],\n",
              "       [1],\n",
              "       [1]], dtype=uint8)"
            ]
          },
          "metadata": {
            "tags": []
          },
          "execution_count": 77
        }
      ]
    },
    {
      "cell_type": "code",
      "metadata": {
        "id": "fwobrQ829d1U"
      },
      "source": [
        "# Reshape train_label & test_label\n",
        "train_label = train_label.reshape(-1)"
      ],
      "execution_count": 78,
      "outputs": []
    },
    {
      "cell_type": "markdown",
      "metadata": {
        "id": "6I2-IjcR-Unk"
      },
      "source": [
        "# Build Model"
      ]
    },
    {
      "cell_type": "code",
      "metadata": {
        "id": "WGgjJaq4-cWZ"
      },
      "source": [
        "from tensorflow.keras.layers import Conv2D, MaxPooling2D, Dense, Flatten"
      ],
      "execution_count": 38,
      "outputs": []
    },
    {
      "cell_type": "code",
      "metadata": {
        "id": "kmCh9qEH-wIE"
      },
      "source": [
        "model = tf.keras.Sequential([\n",
        "    Conv2D(filters=32, kernel_size=(3,3), activation=\"relu\", input_shape=(32,32,3)),\n",
        "    MaxPooling2D((2,2)),\n",
        "    Conv2D(filters=64, kernel_size=(3,3), activation=\"relu\"),\n",
        "    MaxPooling2D((2,2)),\n",
        "\n",
        "    Flatten(),\n",
        "    Dense(64, activation=\"relu\"),\n",
        "    Dense(10, activation=\"softmax\")\n",
        "])\n",
        "\n",
        "model.compile(loss = \"sparse_categorical_crossentropy\",\n",
        "              optimizer = \"adam\",\n",
        "              metrics = [\"accuracy\"])"
      ],
      "execution_count": 39,
      "outputs": []
    },
    {
      "cell_type": "code",
      "metadata": {
        "colab": {
          "base_uri": "https://localhost:8080/"
        },
        "id": "jq4pOWew_nEb",
        "outputId": "6183e785-05fc-4734-97cd-363eb4e78216"
      },
      "source": [
        "model1 = model.fit(train_data,\n",
        "                   train_label,\n",
        "                   epochs = 10,\n",
        "                   validation_data=(test_data,test_label))"
      ],
      "execution_count": 40,
      "outputs": [
        {
          "output_type": "stream",
          "text": [
            "Epoch 1/10\n",
            "1563/1563 [==============================] - 6s 4ms/step - loss: 1.4672 - accuracy: 0.4750 - val_loss: 1.1696 - val_accuracy: 0.5865\n",
            "Epoch 2/10\n",
            "1563/1563 [==============================] - 6s 4ms/step - loss: 1.1027 - accuracy: 0.6150 - val_loss: 1.0556 - val_accuracy: 0.6231\n",
            "Epoch 3/10\n",
            "1563/1563 [==============================] - 6s 4ms/step - loss: 0.9705 - accuracy: 0.6626 - val_loss: 0.9652 - val_accuracy: 0.6693\n",
            "Epoch 4/10\n",
            "1563/1563 [==============================] - 6s 4ms/step - loss: 0.8935 - accuracy: 0.6886 - val_loss: 0.9506 - val_accuracy: 0.6764\n",
            "Epoch 5/10\n",
            "1563/1563 [==============================] - 6s 4ms/step - loss: 0.8261 - accuracy: 0.7133 - val_loss: 0.9005 - val_accuracy: 0.6894\n",
            "Epoch 6/10\n",
            "1563/1563 [==============================] - 5s 3ms/step - loss: 0.7698 - accuracy: 0.7319 - val_loss: 0.9057 - val_accuracy: 0.6943\n",
            "Epoch 7/10\n",
            "1563/1563 [==============================] - 5s 3ms/step - loss: 0.7197 - accuracy: 0.7484 - val_loss: 0.9378 - val_accuracy: 0.6859\n",
            "Epoch 8/10\n",
            "1563/1563 [==============================] - 5s 3ms/step - loss: 0.6795 - accuracy: 0.7622 - val_loss: 0.9362 - val_accuracy: 0.6904\n",
            "Epoch 9/10\n",
            "1563/1563 [==============================] - 5s 3ms/step - loss: 0.6425 - accuracy: 0.7750 - val_loss: 0.9110 - val_accuracy: 0.7015\n",
            "Epoch 10/10\n",
            "1563/1563 [==============================] - 5s 3ms/step - loss: 0.6047 - accuracy: 0.7880 - val_loss: 0.9263 - val_accuracy: 0.7006\n"
          ],
          "name": "stdout"
        }
      ]
    },
    {
      "cell_type": "code",
      "metadata": {
        "colab": {
          "base_uri": "https://localhost:8080/"
        },
        "id": "TTHFXizyGHmo",
        "outputId": "74ed1b97-269e-41b7-d6b4-0151f8f9a6c8"
      },
      "source": [
        "model.summary()"
      ],
      "execution_count": 41,
      "outputs": [
        {
          "output_type": "stream",
          "text": [
            "Model: \"sequential_5\"\n",
            "_________________________________________________________________\n",
            "Layer (type)                 Output Shape              Param #   \n",
            "=================================================================\n",
            "conv2d_26 (Conv2D)           (None, 30, 30, 32)        896       \n",
            "_________________________________________________________________\n",
            "max_pooling2d_6 (MaxPooling2 (None, 15, 15, 32)        0         \n",
            "_________________________________________________________________\n",
            "conv2d_27 (Conv2D)           (None, 13, 13, 64)        18496     \n",
            "_________________________________________________________________\n",
            "max_pooling2d_7 (MaxPooling2 (None, 6, 6, 64)          0         \n",
            "_________________________________________________________________\n",
            "flatten_5 (Flatten)          (None, 2304)              0         \n",
            "_________________________________________________________________\n",
            "dense_10 (Dense)             (None, 64)                147520    \n",
            "_________________________________________________________________\n",
            "dense_11 (Dense)             (None, 10)                650       \n",
            "=================================================================\n",
            "Total params: 167,562\n",
            "Trainable params: 167,562\n",
            "Non-trainable params: 0\n",
            "_________________________________________________________________\n"
          ],
          "name": "stdout"
        }
      ]
    },
    {
      "cell_type": "code",
      "metadata": {
        "id": "8aYAupzEASgA"
      },
      "source": [
        "## Create plot loss curves function\n",
        "def plot_loss_curves(model):\n",
        "  acc = model.history[\"accuracy\"]\n",
        "  val_acc = model.history[\"val_accuracy\"]\n",
        "\n",
        "  loss = model.history[\"loss\"]\n",
        "  val_loss=model.history[\"val_loss\"]\n",
        "\n",
        "  epochs = range(0,len(model.history[\"loss\"]))\n",
        "  plt.plot(epochs, acc, label=\"training_accuracy\")\n",
        "  plt.plot(epochs, val_acc, label=\"test_accuracy\")\n",
        "  plt.xlabel(\"Epochs\")\n",
        "  plt.legend()\n",
        "\n",
        "  plt.figure()\n",
        "  plt.plot(epochs, loss, label=\"training_loss\")\n",
        "  plt.plot(epochs, val_loss, label=\"test_loss\")\n",
        "  plt.xlabel(\"Epochs\")\n",
        "  plt.legend()\n"
      ],
      "execution_count": 42,
      "outputs": []
    },
    {
      "cell_type": "code",
      "metadata": {
        "colab": {
          "base_uri": "https://localhost:8080/",
          "height": 543
        },
        "id": "ciYlUp9-F8YJ",
        "outputId": "12648172-d95b-4cbd-cbfd-40d3bb650162"
      },
      "source": [
        "plot_loss_curves(model=model1)"
      ],
      "execution_count": 43,
      "outputs": [
        {
          "output_type": "display_data",
          "data": {
            "image/png": "[encoded data removed]",
            "text/plain": [
              "<Figure size 432x288 with 1 Axes>"
            ]
          },
          "metadata": {
            "tags": [],
            "needs_background": "light"
          }
        },
        {
          "output_type": "display_data",
          "data": {
            "image/png": "[encoded data removed]",
            "text/plain": [
              "<Figure size 432x288 with 1 Axes>"
            ]
          },
          "metadata": {
            "tags": [],
            "needs_background": "light"
          }
        }
      ]
    },
    {
      "cell_type": "markdown",
      "metadata": {
        "id": "vgkEq0OfHKj4"
      },
      "source": [
        "# Improve Model\n",
        "- Add more layers\n",
        "- Add BachNormalization() layer\n",
        "- Add data augmention"
      ]
    },
    {
      "cell_type": "markdown",
      "metadata": {
        "id": "1YKAGw2azdg6"
      },
      "source": [
        "## Data augmention"
      ]
    },
    {
      "cell_type": "code",
      "metadata": {
        "id": "GL3wSFNazhc2"
      },
      "source": [
        "data_train_aug = tf.keras.preprocessing.image.ImageDataGenerator(rotation_range=0.2,\n",
        "                                                                 width_shift_range=0.2,\n",
        "                                                                 height_shift_range=0.2,\n",
        "                                                                 horizontal_flip=True)"
      ],
      "execution_count": 79,
      "outputs": []
    },
    {
      "cell_type": "code",
      "metadata": {
        "id": "HZvGDVFy02WK"
      },
      "source": [
        "data_train_augmented = data_train_aug.flow(train_data,train_label, batch_size=32)"
      ],
      "execution_count": 80,
      "outputs": []
    },
    {
      "cell_type": "markdown",
      "metadata": {
        "id": "Z0aVMRcJ1aay"
      },
      "source": [
        "## Build Model improve"
      ]
    },
    {
      "cell_type": "code",
      "metadata": {
        "id": "K2kCyRXu1k-4"
      },
      "source": [
        "model2 = tf.keras.Sequential([\n",
        "    Conv2D(32,(3,3), padding=\"same\", input_shape=(32,32,3), activation=\"relu\"),\n",
        "    tf.keras.layers.BatchNormalization(),\n",
        "    Conv2D(32,(3,3), padding=\"same\", activation=\"relu\"),\n",
        "    tf.keras.layers.BatchNormalization(),\n",
        "    MaxPooling2D(),\n",
        "\n",
        "    Conv2D(64,(3,3), padding=\"same\", activation=\"relu\"),\n",
        "    tf.keras.layers.BatchNormalization(),\n",
        "    Conv2D(64,(3,3), padding=\"same\", activation=\"relu\"),\n",
        "    tf.keras.layers.BatchNormalization(),\n",
        "    MaxPooling2D(),\n",
        "\n",
        "    Conv2D(128,(3,3), padding=\"same\", activation=\"relu\"),\n",
        "    tf.keras.layers.BatchNormalization(),\n",
        "    Conv2D(128,(3,3), padding=\"same\", activation=\"relu\"),\n",
        "    tf.keras.layers.BatchNormalization(),\n",
        "    MaxPooling2D(),\n",
        "\n",
        "    Flatten(),\n",
        "    tf.keras.layers.Dropout(0.2),\n",
        "    Dense(64, activation=\"relu\"),\n",
        "    tf.keras.layers.Dropout(0.2),\n",
        "    Dense(10, activation=\"softmax\")\n",
        "])\n",
        "\n",
        "model2.compile(loss=\"sparse_categorical_crossentropy\",\n",
        "               optimizer=\"adam\",\n",
        "               metrics=[\"accuracy\"])"
      ],
      "execution_count": 81,
      "outputs": []
    },
    {
      "cell_type": "code",
      "metadata": {
        "colab": {
          "base_uri": "https://localhost:8080/"
        },
        "id": "wLK8J-Vz3c_1",
        "outputId": "9418a676-4d80-4844-aceb-280edfc90711"
      },
      "source": [
        "model_aug = model2.fit(data_train_augmented,\n",
        "                       epochs = 50,\n",
        "                       steps_per_epoch = len(data_train_augmented),\n",
        "                       validation_data = (test_data, test_label),\n",
        "                       validation_steps = len(test_data))"
      ],
      "execution_count": 83,
      "outputs": [
        {
          "output_type": "stream",
          "text": [
            "Epoch 1/50\n",
            "1563/1563 [==============================] - 51s 32ms/step - loss: 1.7441 - accuracy: 0.3611 - val_loss: 2.2297 - val_accuracy: 0.3681\n",
            "Epoch 2/50\n",
            "1563/1563 [==============================] - 50s 32ms/step - loss: 1.3631 - accuracy: 0.5113 - val_loss: 1.1837 - val_accuracy: 0.5873\n",
            "Epoch 3/50\n",
            "1563/1563 [==============================] - 50s 32ms/step - loss: 1.1268 - accuracy: 0.6033 - val_loss: 1.0612 - val_accuracy: 0.6420\n",
            "Epoch 4/50\n",
            "1563/1563 [==============================] - 47s 30ms/step - loss: 0.9781 - accuracy: 0.6624 - val_loss: 1.1143 - val_accuracy: 0.6640\n",
            "Epoch 5/50\n",
            "1563/1563 [==============================] - 46s 30ms/step - loss: 0.8903 - accuracy: 0.6988 - val_loss: 0.7998 - val_accuracy: 0.7236\n",
            "Epoch 6/50\n",
            "1563/1563 [==============================] - 45s 29ms/step - loss: 0.8121 - accuracy: 0.7267 - val_loss: 0.6642 - val_accuracy: 0.7792\n",
            "Epoch 7/50\n",
            "1563/1563 [==============================] - 46s 30ms/step - loss: 0.7571 - accuracy: 0.7464 - val_loss: 0.7792 - val_accuracy: 0.7496\n",
            "Epoch 8/50\n",
            "1563/1563 [==============================] - 46s 30ms/step - loss: 0.7113 - accuracy: 0.7615 - val_loss: 0.7162 - val_accuracy: 0.7676\n",
            "Epoch 9/50\n",
            "1563/1563 [==============================] - 49s 31ms/step - loss: 0.6779 - accuracy: 0.7725 - val_loss: 0.8442 - val_accuracy: 0.7318\n",
            "Epoch 10/50\n",
            "1563/1563 [==============================] - 47s 30ms/step - loss: 0.6529 - accuracy: 0.7822 - val_loss: 0.6909 - val_accuracy: 0.7667\n",
            "Epoch 11/50\n",
            "1563/1563 [==============================] - 48s 31ms/step - loss: 0.6257 - accuracy: 0.7917 - val_loss: 0.6138 - val_accuracy: 0.7965\n",
            "Epoch 12/50\n",
            "1563/1563 [==============================] - 50s 32ms/step - loss: 0.6009 - accuracy: 0.7995 - val_loss: 0.6463 - val_accuracy: 0.7845\n",
            "Epoch 13/50\n",
            "1563/1563 [==============================] - 50s 32ms/step - loss: 0.5798 - accuracy: 0.8054 - val_loss: 0.5824 - val_accuracy: 0.8071\n",
            "Epoch 14/50\n",
            "1563/1563 [==============================] - 46s 30ms/step - loss: 0.5643 - accuracy: 0.8110 - val_loss: 0.6033 - val_accuracy: 0.8033\n",
            "Epoch 15/50\n",
            "1563/1563 [==============================] - 45s 29ms/step - loss: 0.5436 - accuracy: 0.8181 - val_loss: 0.5455 - val_accuracy: 0.8211\n",
            "Epoch 16/50\n",
            "1563/1563 [==============================] - 50s 32ms/step - loss: 0.5265 - accuracy: 0.8221 - val_loss: 0.5001 - val_accuracy: 0.8300\n",
            "Epoch 17/50\n",
            "1563/1563 [==============================] - 50s 32ms/step - loss: 0.5130 - accuracy: 0.8302 - val_loss: 0.5774 - val_accuracy: 0.8104\n",
            "Epoch 18/50\n",
            "1563/1563 [==============================] - 46s 30ms/step - loss: 0.4967 - accuracy: 0.8341 - val_loss: 0.5059 - val_accuracy: 0.8365\n",
            "Epoch 19/50\n",
            "1563/1563 [==============================] - 47s 30ms/step - loss: 0.4890 - accuracy: 0.8357 - val_loss: 0.4665 - val_accuracy: 0.8461\n",
            "Epoch 20/50\n",
            "1563/1563 [==============================] - 46s 29ms/step - loss: 0.4775 - accuracy: 0.8395 - val_loss: 0.5910 - val_accuracy: 0.8127\n",
            "Epoch 21/50\n",
            "1563/1563 [==============================] - 50s 32ms/step - loss: 0.4639 - accuracy: 0.8444 - val_loss: 0.5276 - val_accuracy: 0.8263\n",
            "Epoch 22/50\n",
            "1563/1563 [==============================] - 47s 30ms/step - loss: 0.4537 - accuracy: 0.8469 - val_loss: 0.5296 - val_accuracy: 0.8314\n",
            "Epoch 23/50\n",
            "1563/1563 [==============================] - 46s 30ms/step - loss: 0.4447 - accuracy: 0.8497 - val_loss: 0.6836 - val_accuracy: 0.7887\n",
            "Epoch 24/50\n",
            "1563/1563 [==============================] - 49s 31ms/step - loss: 0.4363 - accuracy: 0.8531 - val_loss: 0.4371 - val_accuracy: 0.8543\n",
            "Epoch 25/50\n",
            "1563/1563 [==============================] - 47s 30ms/step - loss: 0.4274 - accuracy: 0.8558 - val_loss: 0.5110 - val_accuracy: 0.8335\n",
            "Epoch 26/50\n",
            "1563/1563 [==============================] - 49s 31ms/step - loss: 0.4300 - accuracy: 0.8554 - val_loss: 0.4872 - val_accuracy: 0.8395\n",
            "Epoch 27/50\n",
            "1563/1563 [==============================] - 46s 30ms/step - loss: 0.4125 - accuracy: 0.8630 - val_loss: 0.4702 - val_accuracy: 0.8498\n",
            "Epoch 28/50\n",
            "1563/1563 [==============================] - 47s 30ms/step - loss: 0.4127 - accuracy: 0.8619 - val_loss: 0.4534 - val_accuracy: 0.8478\n",
            "Epoch 29/50\n",
            "1563/1563 [==============================] - 49s 31ms/step - loss: 0.4021 - accuracy: 0.8662 - val_loss: 0.4350 - val_accuracy: 0.8557\n",
            "Epoch 30/50\n",
            "1563/1563 [==============================] - 46s 29ms/step - loss: 0.3957 - accuracy: 0.8683 - val_loss: 0.4450 - val_accuracy: 0.8589\n",
            "Epoch 31/50\n",
            "1563/1563 [==============================] - 47s 30ms/step - loss: 0.3929 - accuracy: 0.8682 - val_loss: 0.4568 - val_accuracy: 0.8494\n",
            "Epoch 32/50\n",
            "1563/1563 [==============================] - 47s 30ms/step - loss: 0.3839 - accuracy: 0.8699 - val_loss: 0.4739 - val_accuracy: 0.8462\n",
            "Epoch 33/50\n",
            "1563/1563 [==============================] - 50s 32ms/step - loss: 0.3768 - accuracy: 0.8722 - val_loss: 0.4308 - val_accuracy: 0.8581\n",
            "Epoch 34/50\n",
            "1563/1563 [==============================] - 46s 29ms/step - loss: 0.3717 - accuracy: 0.8745 - val_loss: 0.4719 - val_accuracy: 0.8508\n",
            "Epoch 35/50\n",
            "1563/1563 [==============================] - 50s 32ms/step - loss: 0.3716 - accuracy: 0.8743 - val_loss: 0.4500 - val_accuracy: 0.8516\n",
            "Epoch 36/50\n",
            "1563/1563 [==============================] - 51s 32ms/step - loss: 0.3632 - accuracy: 0.8781 - val_loss: 0.4333 - val_accuracy: 0.8586\n",
            "Epoch 37/50\n",
            "1563/1563 [==============================] - 50s 32ms/step - loss: 0.3590 - accuracy: 0.8777 - val_loss: 0.4236 - val_accuracy: 0.8623\n",
            "Epoch 38/50\n",
            "1563/1563 [==============================] - 46s 30ms/step - loss: 0.3567 - accuracy: 0.8800 - val_loss: 0.4090 - val_accuracy: 0.8664\n",
            "Epoch 39/50\n",
            "1563/1563 [==============================] - 50s 32ms/step - loss: 0.3537 - accuracy: 0.8801 - val_loss: 0.4452 - val_accuracy: 0.8578\n",
            "Epoch 40/50\n",
            "1563/1563 [==============================] - 49s 31ms/step - loss: 0.3454 - accuracy: 0.8833 - val_loss: 0.4019 - val_accuracy: 0.8701\n",
            "Epoch 41/50\n",
            "1563/1563 [==============================] - 46s 29ms/step - loss: 0.3449 - accuracy: 0.8837 - val_loss: 0.4351 - val_accuracy: 0.8649\n",
            "Epoch 42/50\n",
            "1563/1563 [==============================] - 84s 54ms/step - loss: 0.3370 - accuracy: 0.8856 - val_loss: 0.4555 - val_accuracy: 0.8544\n",
            "Epoch 43/50\n",
            "1563/1563 [==============================] - 46s 30ms/step - loss: 0.3355 - accuracy: 0.8871 - val_loss: 0.4218 - val_accuracy: 0.8632\n",
            "Epoch 44/50\n",
            "1563/1563 [==============================] - 47s 30ms/step - loss: 0.3349 - accuracy: 0.8864 - val_loss: 0.4406 - val_accuracy: 0.8578\n",
            "Epoch 45/50\n",
            "1563/1563 [==============================] - 50s 32ms/step - loss: 0.3322 - accuracy: 0.8879 - val_loss: 0.4137 - val_accuracy: 0.8703\n",
            "Epoch 46/50\n",
            "1563/1563 [==============================] - 47s 30ms/step - loss: 0.3252 - accuracy: 0.8903 - val_loss: 0.3907 - val_accuracy: 0.8760\n",
            "Epoch 47/50\n",
            "1563/1563 [==============================] - 46s 30ms/step - loss: 0.3261 - accuracy: 0.8900 - val_loss: 0.3977 - val_accuracy: 0.8695\n",
            "Epoch 48/50\n",
            "1563/1563 [==============================] - 46s 29ms/step - loss: 0.3202 - accuracy: 0.8913 - val_loss: 0.4115 - val_accuracy: 0.8668\n",
            "Epoch 49/50\n",
            "1563/1563 [==============================] - 47s 30ms/step - loss: 0.3177 - accuracy: 0.8930 - val_loss: 0.3885 - val_accuracy: 0.8740\n",
            "Epoch 50/50\n",
            "1563/1563 [==============================] - 47s 30ms/step - loss: 0.3157 - accuracy: 0.8936 - val_loss: 0.4480 - val_accuracy: 0.8621\n"
          ],
          "name": "stdout"
        }
      ]
    },
    {
      "cell_type": "markdown",
      "metadata": {
        "id": "K0CwtCCaQi21"
      },
      "source": [
        "## Evaluation"
      ]
    },
    {
      "cell_type": "code",
      "metadata": {
        "id": "zTkxxXRdQrj-"
      },
      "source": [
        "import numpy as np \n",
        "y_preds = model2.predict(test_data)"
      ],
      "execution_count": 161,
      "outputs": []
    },
    {
      "cell_type": "code",
      "metadata": {
        "id": "yf0iU254Q_DE"
      },
      "source": [
        "y_preds_class = [np.argmax(element) for element in y_preds]"
      ],
      "execution_count": 162,
      "outputs": []
    },
    {
      "cell_type": "code",
      "metadata": {
        "colab": {
          "base_uri": "https://localhost:8080/"
        },
        "id": "SQQ_3q00P6cp",
        "outputId": "8dcf1e0e-ff0a-427e-ca9a-b17b313c8e32"
      },
      "source": [
        "from sklearn.metrics import confusion_matrix, classification_report\n",
        "print(\"Classification Report:\", classification_report(test_label, y_preds_class))"
      ],
      "execution_count": 170,
      "outputs": [
        {
          "output_type": "stream",
          "text": [
            "Classification Report:               precision    recall  f1-score   support\n",
            "\n",
            "           0       0.89      0.82      0.85      1000\n",
            "           1       0.93      0.95      0.94      1000\n",
            "           2       0.87      0.77      0.82      1000\n",
            "           3       0.78      0.73      0.76      1000\n",
            "           4       0.83      0.87      0.85      1000\n",
            "           5       0.88      0.75      0.81      1000\n",
            "           6       0.77      0.95      0.85      1000\n",
            "           7       0.85      0.92      0.89      1000\n",
            "           8       0.91      0.94      0.92      1000\n",
            "           9       0.93      0.92      0.93      1000\n",
            "\n",
            "    accuracy                           0.86     10000\n",
            "   macro avg       0.86      0.86      0.86     10000\n",
            "weighted avg       0.86      0.86      0.86     10000\n",
            "\n"
          ],
          "name": "stdout"
        }
      ]
    },
    {
      "cell_type": "markdown",
      "metadata": {
        "id": "GVtqXSV77z6x"
      },
      "source": [
        "## Plot loss curves"
      ]
    },
    {
      "cell_type": "code",
      "metadata": {
        "colab": {
          "base_uri": "https://localhost:8080/",
          "height": 541
        },
        "id": "rMuuGnhPGBn2",
        "outputId": "4a065ff8-6d4c-4168-ecba-2521a24ec7b9"
      },
      "source": [
        "plot_loss_curves(model_aug)"
      ],
      "execution_count": 84,
      "outputs": [
        {
          "output_type": "display_data",
          "data": {
            "image/png": "[encoded data removed]",
            "text/plain": [
              "<Figure size 432x288 with 1 Axes>"
            ]
          },
          "metadata": {
            "tags": [],
            "needs_background": "light"
          }
        },
        {
          "output_type": "display_data",
          "data": {
            "image/png": "[encoded data removed]",
            "text/plain": [
              "<Figure size 432x288 with 1 Axes>"
            ]
          },
          "metadata": {
            "tags": [],
            "needs_background": "light"
          }
        }
      ]
    },
    {
      "cell_type": "markdown",
      "metadata": {
        "id": "QHCkQW81GFjF"
      },
      "source": [
        "## Create function predict random image"
      ]
    },
    {
      "cell_type": "code",
      "metadata": {
        "colab": {
          "base_uri": "https://localhost:8080/"
        },
        "id": "NjeWHB5SHFNz",
        "outputId": "dfab5bb9-b33a-4541-c902-a850b0cf23bd"
      },
      "source": [
        "y_pred = model2.predict(tf.expand_dims(test_data[0], axis = 0))\n",
        "y_pred"
      ],
      "execution_count": 89,
      "outputs": [
        {
          "output_type": "execute_result",
          "data": {
            "text/plain": [
              "array([[6.5873455e-06, 4.2059521e-05, 2.0875383e-02, 8.3241177e-01,\n",
              "        1.1770196e-04, 1.3702609e-01, 9.1047753e-03, 3.8823520e-04,\n",
              "        2.5178197e-05, 2.2346387e-06]], dtype=float32)"
            ]
          },
          "metadata": {
            "tags": []
          },
          "execution_count": 89
        }
      ]
    },
    {
      "cell_type": "code",
      "metadata": {
        "colab": {
          "base_uri": "https://localhost:8080/",
          "height": 35
        },
        "id": "v-_jUpQbHoYO",
        "outputId": "a8eec769-9cfc-4599-baef-76244f93b2fb"
      },
      "source": [
        "class_name[y_pred.argmax()]"
      ],
      "execution_count": 91,
      "outputs": [
        {
          "output_type": "execute_result",
          "data": {
            "application/vnd.google.colaboratory.intrinsic+json": {
              "type": "string"
            },
            "text/plain": [
              "'cats'"
            ]
          },
          "metadata": {
            "tags": []
          },
          "execution_count": 91
        }
      ]
    },
    {
      "cell_type": "code",
      "metadata": {
        "colab": {
          "base_uri": "https://localhost:8080/"
        },
        "id": "g0fSgXRaPEKW",
        "outputId": "e218ec6a-fab9-4d4d-8a35-cdb39cd9777e"
      },
      "source": [
        "test_label"
      ],
      "execution_count": 151,
      "outputs": [
        {
          "output_type": "execute_result",
          "data": {
            "text/plain": [
              "<tf.Tensor: shape=(10000,), dtype=uint8, numpy=array([3, 8, 8, ..., 5, 1, 7], dtype=uint8)>"
            ]
          },
          "metadata": {
            "tags": []
          },
          "execution_count": 151
        }
      ]
    },
    {
      "cell_type": "code",
      "metadata": {
        "colab": {
          "base_uri": "https://localhost:8080/",
          "height": 282
        },
        "id": "lVpo_d7mHxDB",
        "outputId": "daafdf95-0af3-415c-c18f-5bce51c4ddb5"
      },
      "source": [
        "# Visualize\n",
        "plt.imshow(test_data[0])\n",
        "plt.axis(False)\n",
        "plt.title(f\"True label: {class_name[(test_label[0])]} => Predict: {class_name[y_pred.argmax()]}\")"
      ],
      "execution_count": 152,
      "outputs": [
        {
          "output_type": "execute_result",
          "data": {
            "text/plain": [
              "Text(0.5, 1.0, 'True label: cats => Predict: cats')"
            ]
          },
          "metadata": {
            "tags": []
          },
          "execution_count": 152
        },
        {
          "output_type": "display_data",
          "data": {
            "image/png": "[encoded data removed]",
            "text/plain": [
              "<Figure size 432x288 with 1 Axes>"
            ]
          },
          "metadata": {
            "tags": [],
            "needs_background": "light"
          }
        }
      ]
    },
    {
      "cell_type": "code",
      "metadata": {
        "id": "GBZJXN7VGW-R"
      },
      "source": [
        "import random\n",
        "def predict_random_image(model, images, labels):\n",
        "  index = random.randint(0, len(test_data))\n",
        "  image = images[index]\n",
        "\n",
        "  preds = model2.predict(tf.expand_dims(image, axis = 0))\n",
        "  name_preds = class_name[preds.argmax()]\n",
        "\n",
        "  true_label = class_name[(labels[index])]\n",
        "  plt.imshow(image)\n",
        "  plt.title(f\"True label: {true_label} => Predict: {name_preds}\" )"
      ],
      "execution_count": 159,
      "outputs": []
    },
    {
      "cell_type": "code",
      "metadata": {
        "colab": {
          "base_uri": "https://localhost:8080/",
          "height": 281
        },
        "id": "BWVJ594PG9Ds",
        "outputId": "96f157ad-10ff-4a04-dc4f-a7e5a5285742"
      },
      "source": [
        "predict_random_image(model=model2, images = test_data, labels = test_label)"
      ],
      "execution_count": 160,
      "outputs": [
        {
          "output_type": "display_data",
          "data": {
            "image/png": "[encoded data removed]",
            "text/plain": [
              "<Figure size 432x288 with 1 Axes>"
            ]
          },
          "metadata": {
            "tags": [],
            "needs_background": "light"
          }
        }
      ]
    },
    {
      "cell_type": "markdown",
      "metadata": {
        "id": "LGerPUG2PaV-"
      },
      "source": [
        "# Save Model"
      ]
    },
    {
      "cell_type": "code",
      "metadata": {
        "colab": {
          "base_uri": "https://localhost:8080/"
        },
        "id": "uUVT33XoSsqD",
        "outputId": "9b74004f-459e-4cc7-a247-e4362eda3d37"
      },
      "source": [
        "save_dir = \"/content/drive/MyDrive/tensorflow_project/CNN/CIFAR10_dataset_CNN\"\n",
        "model2.save(save_dir)"
      ],
      "execution_count": 172,
      "outputs": [
        {
          "output_type": "stream",
          "text": [
            "INFO:tensorflow:Assets written to: /content/drive/MyDrive/tensorflow_project/CNN/CIFAR10_dataset_CNN/assets\n"
          ],
          "name": "stdout"
        }
      ]
    },
    {
      "cell_type": "code",
      "metadata": {
        "id": "tmxxLHBRS92x"
      },
      "source": [
        ""
      ],
      "execution_count": null,
      "outputs": []
    }
  ]
}